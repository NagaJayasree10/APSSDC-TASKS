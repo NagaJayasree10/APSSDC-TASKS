{
 "cells": [
  {
   "cell_type": "markdown",
   "id": "6b569d4d",
   "metadata": {},
   "source": [
    "### TASK"
   ]
  },
  {
   "cell_type": "markdown",
   "id": "a5b3b98a",
   "metadata": {},
   "source": [
    "### Generate 3-Digit OTP from 2 different Classes (Mail class and Phone Class) and return 6digit OTP from Baseclasses(super classes)"
   ]
  },
  {
   "cell_type": "code",
   "execution_count": 17,
   "id": "99d07069",
   "metadata": {},
   "outputs": [],
   "source": [
    "import random\n",
    "class Mail:\n",
    "    def __init__(self):\n",
    "         self.s1 = random.randint(100,999)\n",
    "         print(\"The 3-digit OTP by mail is: \",self.s1)\n",
    "class Phone:\n",
    "    def __init__(self):\n",
    "        self.s2=random.randint(100,999)\n",
    "        print(\"The 3-digit OTP by Phone is: \",self.s2)\n",
    "class Base(Mail,Phone):\n",
    "    def __init__(self):\n",
    "        Mail.__init__(self)\n",
    "        Phone.__init__(self)\n",
    "        print(\"The 6 digit OTP is: \",str(self.s1)+str(self.s2))\n",
    "        \n",
    "    "
   ]
  },
  {
   "cell_type": "code",
   "execution_count": 18,
   "id": "16d23917",
   "metadata": {},
   "outputs": [
    {
     "name": "stdout",
     "output_type": "stream",
     "text": [
      "The 3-digit OTP by mail is:  119\n",
      "The 3-digit OTP by Phone is:  570\n",
      "The 6 digit OTP is:  119570\n"
     ]
    }
   ],
   "source": [
    "obj_b = Base()"
   ]
  }
 ],
 "metadata": {
  "kernelspec": {
   "display_name": "Python 3",
   "language": "python",
   "name": "python3"
  },
  "language_info": {
   "codemirror_mode": {
    "name": "ipython",
    "version": 3
   },
   "file_extension": ".py",
   "mimetype": "text/x-python",
   "name": "python",
   "nbconvert_exporter": "python",
   "pygments_lexer": "ipython3",
   "version": "3.8.8"
  }
 },
 "nbformat": 4,
 "nbformat_minor": 5
}
