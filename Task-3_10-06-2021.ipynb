{
 "cells": [
  {
   "cell_type": "markdown",
   "id": "f2bb7f59",
   "metadata": {},
   "source": [
    "## TASK-3\n"
   ]
  },
  {
   "cell_type": "markdown",
   "id": "14acfb83",
   "metadata": {},
   "source": [
    "### The question is:\n",
    "* Take input form user.\n",
    "* Check the length of the string is even or odd.\n",
    "* If the string length is odd access one middle character.\n",
    "* If the string length is even access two middle characters."
   ]
  },
  {
   "cell_type": "code",
   "execution_count": 11,
   "id": "763bb4e4",
   "metadata": {},
   "outputs": [
    {
     "name": "stdout",
     "output_type": "stream",
     "text": [
      "Enter any String: jayasree\n",
      "The length of the string is:  8\n",
      "The length of the string is even and the two middle characters are:  a,s\n"
     ]
    }
   ],
   "source": [
    "string=input(\"Enter any String: \")\n",
    "print(\"The length of the string is: \", len(string))\n",
    "if len(string)%2==0:\n",
    "    print(\"The length of the string is even and the two middle characters are: \",string[len(string)//2-1]\n",
    "          +\",\"+string[len(string)//2])\n",
    "else:\n",
    "    print(\"the length of the string is odd and the middle character is: \",string[len(string)//2])"
   ]
  }
 ],
 "metadata": {
  "kernelspec": {
   "display_name": "Python 3",
   "language": "python",
   "name": "python3"
  },
  "language_info": {
   "codemirror_mode": {
    "name": "ipython",
    "version": 3
   },
   "file_extension": ".py",
   "mimetype": "text/x-python",
   "name": "python",
   "nbconvert_exporter": "python",
   "pygments_lexer": "ipython3",
   "version": "3.8.8"
  }
 },
 "nbformat": 4,
 "nbformat_minor": 5
}
