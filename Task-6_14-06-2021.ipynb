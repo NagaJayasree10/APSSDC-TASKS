{
 "cells": [
  {
   "cell_type": "markdown",
   "id": "35fe311c",
   "metadata": {},
   "source": [
    "## TASK"
   ]
  },
  {
   "cell_type": "markdown",
   "id": "524e6ae4",
   "metadata": {},
   "source": [
    "### 1.Write a pattern to display 4 digit numbers from list1."
   ]
  },
  {
   "cell_type": "code",
   "execution_count": 4,
   "id": "684bc1e7",
   "metadata": {},
   "outputs": [],
   "source": [
    "import re"
   ]
  },
  {
   "cell_type": "code",
   "execution_count": 10,
   "id": "60b8ebaa",
   "metadata": {},
   "outputs": [
    {
     "name": "stdout",
     "output_type": "stream",
     "text": [
      "5841\n",
      "1234\n",
      "8797\n"
     ]
    }
   ],
   "source": [
    "list1 = [\"5841\", \"987654321\", \"453267\", \"1234\", \"675\", \"8797\"]\n",
    "for numbers in list1:\n",
    "    if re.findall('^[0-9]{4}$',numbers):\n",
    "        print(numbers)\n"
   ]
  },
  {
   "cell_type": "markdown",
   "id": "c7409db3",
   "metadata": {},
   "source": [
    "### 2.Validate a phone number using patterns. Try to do this task using below pattern or your own pattern."
   ]
  },
  {
   "cell_type": "code",
   "execution_count": 12,
   "id": "4155def0",
   "metadata": {},
   "outputs": [
    {
     "name": "stdout",
     "output_type": "stream",
     "text": [
      "9876543210\n",
      "8123456789\n",
      "7890123456\n"
     ]
    }
   ],
   "source": [
    "ph_list = ['9876543210', '8123456789', '7890123456', '789654', '1234567890']\n",
    "for phonenum in ph_list:\n",
    "    if re.findall('[6-9]{1}[0-9]{9}$',phonenum):\n",
    "        print(phonenum)"
   ]
  },
  {
   "cell_type": "code",
   "execution_count": 2,
   "id": "ca235468",
   "metadata": {},
   "outputs": [
    {
     "name": "stdout",
     "output_type": "stream",
     "text": [
      "Enter number of elements in the list: 5\n",
      "9876543210\n",
      "1234567890\n",
      "6302547896\n",
      "8765432188\n",
      "7889653210\n",
      "the list is:  ['9876543210', '1234567890', '6302547896', '8765432188', '7889653210']\n",
      "The valid phone numbers: \n",
      "9876543210\n",
      "6302547896\n",
      "8765432188\n",
      "7889653210\n"
     ]
    }
   ],
   "source": [
    "n=int(input(\"Enter number of elements in the list: \"))\n",
    "l2=[]\n",
    "for i in range(n):\n",
    "    a=input()\n",
    "    l2.append(a)\n",
    "print(\"the list is: \",l2)\n",
    "    \n",
    "import re\n",
    "print(\"The valid phone numbers: \")\n",
    "for phonenum in l2:\n",
    "    if re.findall('[6-9]{1}[0-9]{9}$',phonenum):\n",
    "        print(phonenum)\n",
    "\n"
   ]
  }
 ],
 "metadata": {
  "kernelspec": {
   "display_name": "Python 3",
   "language": "python",
   "name": "python3"
  },
  "language_info": {
   "codemirror_mode": {
    "name": "ipython",
    "version": 3
   },
   "file_extension": ".py",
   "mimetype": "text/x-python",
   "name": "python",
   "nbconvert_exporter": "python",
   "pygments_lexer": "ipython3",
   "version": "3.8.8"
  }
 },
 "nbformat": 4,
 "nbformat_minor": 5
}
