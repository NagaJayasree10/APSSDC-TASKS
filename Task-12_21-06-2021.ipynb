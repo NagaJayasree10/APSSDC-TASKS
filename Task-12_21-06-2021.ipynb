{
 "cells": [
  {
   "cell_type": "markdown",
   "id": "a63ce4db",
   "metadata": {},
   "source": [
    "## TASK"
   ]
  },
  {
   "cell_type": "markdown",
   "id": "99a84d30",
   "metadata": {},
   "source": [
    "### Create arrays with all the data types available in numpy."
   ]
  },
  {
   "cell_type": "markdown",
   "id": "94852438",
   "metadata": {},
   "source": [
    "**Numpy has 11 Datatypes and the characters used to represent them are:**\n",
    "* integer - i\n",
    "* boolean - b\n",
    "* unsigned integer - u\n",
    "* float - f\n",
    "* complex float - c\n",
    "* timedelta - m\n",
    "* datatime - M\n",
    "* object - O\n",
    "* string - S\n",
    "* unicode string - U\n",
    "* fixed chunk of memory for other type (void) - V"
   ]
  },
  {
   "cell_type": "markdown",
   "id": "22fe98f0",
   "metadata": {},
   "source": [
    "### 1.INTEGER"
   ]
  },
  {
   "cell_type": "code",
   "execution_count": 70,
   "id": "6d9c2149",
   "metadata": {},
   "outputs": [
    {
     "name": "stdout",
     "output_type": "stream",
     "text": [
      "[1 2 3 4 5]\n",
      "int32\n"
     ]
    }
   ],
   "source": [
    "## creating array with integer in array:\n",
    "\n",
    "import numpy as np\n",
    "a = np.array([1,2,3,4,5], dtype='i')\n",
    "print(a)\n",
    "print(a.dtype)\n"
   ]
  },
  {
   "cell_type": "markdown",
   "id": "65cc0ed7",
   "metadata": {},
   "source": [
    "### 2.BOOLEAN"
   ]
  },
  {
   "cell_type": "code",
   "execution_count": 71,
   "id": "ddfdb6b4",
   "metadata": {},
   "outputs": [
    {
     "name": "stdout",
     "output_type": "stream",
     "text": [
      "[False  True  True  True  True  True]\n",
      "bool\n"
     ]
    }
   ],
   "source": [
    "## creating array with boolean in array:\n",
    "a=np.array([0,1,2,3,4,5], dtype='bool')\n",
    "print(a)\n",
    "print(a.dtype)\n"
   ]
  },
  {
   "cell_type": "markdown",
   "id": "6606c2dd",
   "metadata": {},
   "source": [
    "### 3.UNSIGNED INTEGER"
   ]
  },
  {
   "cell_type": "code",
   "execution_count": 62,
   "id": "6aec859b",
   "metadata": {},
   "outputs": [
    {
     "name": "stdout",
     "output_type": "stream",
     "text": [
      "[4294967273 4294967271         90         60 4294967246]\n",
      "uint32\n"
     ]
    }
   ],
   "source": [
    "## creating array with unsigned integer in array:\n",
    "a=np.array([-23,-25,90,60,-50], dtype='uint')\n",
    "print(a)\n",
    "print(a.dtype)\n"
   ]
  },
  {
   "cell_type": "markdown",
   "id": "9c5bb63d",
   "metadata": {},
   "source": [
    "### 4.FLOAT"
   ]
  },
  {
   "cell_type": "code",
   "execution_count": 72,
   "id": "8d0b230a",
   "metadata": {},
   "outputs": [
    {
     "name": "stdout",
     "output_type": "stream",
     "text": [
      "[1.25 2.5  3.5  4.   5.  ]\n",
      "float64\n"
     ]
    }
   ],
   "source": [
    "## creating array with float in array:\n",
    "a=np.array([1.25,2.5,3.5,4,5])\n",
    "print(a)\n",
    "print(a.dtype)\n"
   ]
  },
  {
   "cell_type": "markdown",
   "id": "2cc326a5",
   "metadata": {},
   "source": [
    "### 5.COMPLEX FLOAT"
   ]
  },
  {
   "cell_type": "code",
   "execution_count": 82,
   "id": "c37d06d5",
   "metadata": {},
   "outputs": [
    {
     "name": "stdout",
     "output_type": "stream",
     "text": [
      "[ 8.   +2.j 10.555+0.j  7.   +8.j  3.   +4.j 11.555+0.j]\n",
      "complex128\n"
     ]
    }
   ],
   "source": [
    "## creating an array with complex float in array\n",
    "a=np.array([8+2j,10.555,7+8j,3+4j,11.555])\n",
    "print(a)\n",
    "print(a.dtype)\n"
   ]
  },
  {
   "cell_type": "markdown",
   "id": "aebe17a0",
   "metadata": {},
   "source": [
    "### 6.TIMEDELTA"
   ]
  },
  {
   "cell_type": "code",
   "execution_count": 42,
   "id": "7c007835",
   "metadata": {},
   "outputs": [
    {
     "name": "stdout",
     "output_type": "stream",
     "text": [
      "3 days\n"
     ]
    },
    {
     "data": {
      "text/plain": [
       "dtype('<m8[D]')"
      ]
     },
     "execution_count": 42,
     "metadata": {},
     "output_type": "execute_result"
    }
   ],
   "source": [
    "## creating an array with time delta in array\n",
    "a=np.timedelta64(3,'D')\n",
    "print(a)\n",
    "a.dtype"
   ]
  },
  {
   "cell_type": "code",
   "execution_count": 69,
   "id": "69ecb8e0",
   "metadata": {},
   "outputs": [
    {
     "name": "stdout",
     "output_type": "stream",
     "text": [
      "6 weeks\n",
      "timedelta64[W]\n"
     ]
    }
   ],
   "source": [
    "## creating an array with time delta in array\n",
    "a=np.timedelta64(6,'W')\n",
    "print(a)\n",
    "print(a.dtype)"
   ]
  },
  {
   "cell_type": "markdown",
   "id": "70a63606",
   "metadata": {},
   "source": [
    "### 7.DATATIME"
   ]
  },
  {
   "cell_type": "code",
   "execution_count": 56,
   "id": "b24b4645",
   "metadata": {},
   "outputs": [
    {
     "name": "stdout",
     "output_type": "stream",
     "text": [
      "['2002-03-10' '2001-12-23' '2001-02-15']\n",
      "datetime64[D]\n"
     ]
    }
   ],
   "source": [
    "## creating an array with datetime in array\n",
    "a=np.array(['2002-03-10','2001-12-23','2001-02-15'],dtype='datetime64')\n",
    "print(a)\n",
    "print(a.dtype)\n"
   ]
  },
  {
   "cell_type": "markdown",
   "id": "66145305",
   "metadata": {},
   "source": [
    "### 8.OBJECT"
   ]
  },
  {
   "cell_type": "code",
   "execution_count": 61,
   "id": "9431f1ee",
   "metadata": {},
   "outputs": [
    {
     "name": "stdout",
     "output_type": "stream",
     "text": [
      "['jaya' 100 200]\n",
      "object\n"
     ]
    }
   ],
   "source": [
    "## creating an array with object in array\n",
    "a=np.array(['jaya',100,200],dtype='O')\n",
    "print(a)\n",
    "print(a.dtype)"
   ]
  },
  {
   "cell_type": "markdown",
   "id": "976df00e",
   "metadata": {},
   "source": [
    "### 9.STRING"
   ]
  },
  {
   "cell_type": "code",
   "execution_count": 68,
   "id": "54b190cf",
   "metadata": {},
   "outputs": [
    {
     "name": "stdout",
     "output_type": "stream",
     "text": [
      "['jaya' 'narsi' 'noushi' 'shyam' 'vamsi' 'likki']\n",
      "<U6\n"
     ]
    }
   ],
   "source": [
    "## creating an array with string in array\n",
    "a=np.array(['jaya','narsi','noushi','shyam','vamsi','likki'])\n",
    "print(a)\n",
    "print(a.dtype)"
   ]
  },
  {
   "cell_type": "markdown",
   "id": "6e630b86",
   "metadata": {},
   "source": [
    "### 10.UNICODE STRING"
   ]
  },
  {
   "cell_type": "code",
   "execution_count": 86,
   "id": "300f3472",
   "metadata": {},
   "outputs": [
    {
     "name": "stdout",
     "output_type": "stream",
     "text": [
      "['Δ' 'µZ' 'µF' '∂r']\n",
      "<U2\n"
     ]
    }
   ],
   "source": [
    "## creating an array with unicodestring in array\n",
    "a=np.array([u'\\u0394', u'\\265Z', u'\\265F', u'\\u2202r'])\n",
    "print(a)\n",
    "print(a.dtype)"
   ]
  },
  {
   "cell_type": "markdown",
   "id": "f847bb90",
   "metadata": {},
   "source": [
    "### 11.VOID"
   ]
  },
  {
   "cell_type": "code",
   "execution_count": 81,
   "id": "78b5f5d8",
   "metadata": {},
   "outputs": [
    {
     "name": "stdout",
     "output_type": "stream",
     "text": [
      "[]\n",
      "|V8\n"
     ]
    }
   ],
   "source": [
    "## creating an array with void in array\n",
    "a=np.array([],dtype='V')\n",
    "print(a)\n",
    "print(a.dtype)"
   ]
  }
 ],
 "metadata": {
  "kernelspec": {
   "display_name": "Python 3",
   "language": "python",
   "name": "python3"
  },
  "language_info": {
   "codemirror_mode": {
    "name": "ipython",
    "version": 3
   },
   "file_extension": ".py",
   "mimetype": "text/x-python",
   "name": "python",
   "nbconvert_exporter": "python",
   "pygments_lexer": "ipython3",
   "version": "3.8.8"
  }
 },
 "nbformat": 4,
 "nbformat_minor": 5
}
