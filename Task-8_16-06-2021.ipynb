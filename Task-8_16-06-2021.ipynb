{
 "cells": [
  {
   "cell_type": "markdown",
   "id": "07bc9bed",
   "metadata": {},
   "source": [
    "## TASK"
   ]
  },
  {
   "cell_type": "markdown",
   "id": "54ec6d78",
   "metadata": {},
   "source": [
    "### The task is\n",
    "* write a program in module\n",
    "* ask the user to enter the data\n",
    "* check the data if it's camelcase print Like (Thumbsup)emoji\n",
    "* else convert the data into camelcase then speakout Successfully converted your data into camel case 1"
   ]
  },
  {
   "cell_type": "code",
   "execution_count": 2,
   "id": "a346e078",
   "metadata": {},
   "outputs": [
    {
     "name": "stdout",
     "output_type": "stream",
     "text": [
      "Enter your data: Jaya\n",
      "👍\n"
     ]
    }
   ],
   "source": [
    "import module\n",
    "module.conn_camelcase()"
   ]
  },
  {
   "cell_type": "code",
   "execution_count": 3,
   "id": "20ccdc94",
   "metadata": {},
   "outputs": [
    {
     "name": "stdout",
     "output_type": "stream",
     "text": [
      "Enter your data: Jaya is a good girl\n",
      "The converted data is: \n",
      "Jaya is a Good Girl\n"
     ]
    }
   ],
   "source": [
    "import module\n",
    "module.conn_camelcase()"
   ]
  },
  {
   "cell_type": "code",
   "execution_count": 7,
   "id": "ad56c66a",
   "metadata": {},
   "outputs": [
    {
     "name": "stdout",
     "output_type": "stream",
     "text": [
      "Enter your data: jaya is from SRM university\n",
      "The converted data is: \n",
      "Jaya is From SRM University\n"
     ]
    }
   ],
   "source": [
    "import camelcase\n",
    "import emoji\n",
    "import pyttsx3\n",
    "a=input(\"Enter your data: \")\n",
    "x=camelcase.CamelCase()\n",
    "if a==x.hump(a):\n",
    "    print(emoji.emojize(\":thumbs_up:\"))\n",
    "else:\n",
    "    print(\"The converted data is: \")\n",
    "    x=camelcase.CamelCase()\n",
    "    print(x.hump(a))\n",
    "    spk=pyttsx3.init()\n",
    "    spk.say(\"Successfully converted\")\n",
    "    spk.runAndWait()"
   ]
  }
 ],
 "metadata": {
  "kernelspec": {
   "display_name": "Python 3",
   "language": "python",
   "name": "python3"
  },
  "language_info": {
   "codemirror_mode": {
    "name": "ipython",
    "version": 3
   },
   "file_extension": ".py",
   "mimetype": "text/x-python",
   "name": "python",
   "nbconvert_exporter": "python",
   "pygments_lexer": "ipython3",
   "version": "3.8.8"
  }
 },
 "nbformat": 4,
 "nbformat_minor": 5
}
