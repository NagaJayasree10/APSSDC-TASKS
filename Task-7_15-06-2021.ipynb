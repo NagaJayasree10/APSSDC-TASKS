{
 "cells": [
  {
   "cell_type": "markdown",
   "id": "0835cd7a",
   "metadata": {},
   "source": [
    "## TASKS"
   ]
  },
  {
   "cell_type": "markdown",
   "id": "e71fa090",
   "metadata": {},
   "source": [
    "### 1.create a function for finding the leap years within the given range."
   ]
  },
  {
   "cell_type": "code",
   "execution_count": 8,
   "id": "2176069f",
   "metadata": {},
   "outputs": [
    {
     "name": "stdout",
     "output_type": "stream",
     "text": [
      "Enter starting year: 1900\n",
      "enter ending year: 2000\n",
      "The leap years between given range are: \n",
      "1904\t1908\t1912\t1916\t1920\t1924\t1928\t1932\t1936\t1940\t1944\t1948\t1952\t1956\t1960\t1964\t1968\t1972\t1976\t1980\t1984\t1988\t1992\t1996\t2000\t"
     ]
    }
   ],
   "source": [
    "def leap_year():\n",
    "    s=int(input(\"Enter starting year: \"))\n",
    "    e=int(input(\"enter ending year: \"))\n",
    "    print(\"The leap years between given range are: \")\n",
    "    for i in range(s,e+1):\n",
    "        if(i%4==0 and i%100!=0) or (i%400==0):\n",
    "            print(i,end=\"\\t\")\n",
    "leap_year()\n",
    "\n",
    "        "
   ]
  },
  {
   "cell_type": "markdown",
   "id": "1d6e6f1d",
   "metadata": {},
   "source": [
    "### 2.Create a function for getting the armstrong numbers within the given range."
   ]
  },
  {
   "cell_type": "code",
   "execution_count": 14,
   "id": "88a577dd",
   "metadata": {},
   "outputs": [
    {
     "name": "stdout",
     "output_type": "stream",
     "text": [
      "starting number :100\n",
      "ending number: 200\n",
      "The armstrong number between given range are:\n",
      "125\n",
      "153\n"
     ]
    }
   ],
   "source": [
    "def armstrong():\n",
    "    s=int(input(\"starting number :\"))\n",
    "    e= int(input(\"ending number: \"))\n",
    "    print(\"The armstrong number between given range are:\")\n",
    "    for i in range(s,e+1):\n",
    "        sum=0\n",
    "        temp=i\n",
    "        while temp>0:\n",
    "            digit=temp%10\n",
    "            sum=sum+digit**3\n",
    "            temp=temp//10\n",
    "            if i==sum:\n",
    "                print(i)\n",
    "armstrong()\n",
    "    "
   ]
  },
  {
   "cell_type": "markdown",
   "id": "2b0fe791",
   "metadata": {},
   "source": [
    "### 3.create a function for getting the prime numbers within the range."
   ]
  },
  {
   "cell_type": "code",
   "execution_count": 37,
   "id": "49940e88",
   "metadata": {},
   "outputs": [
    {
     "name": "stdout",
     "output_type": "stream",
     "text": [
      "starting number :1\n",
      "ending number: 150\n",
      "The prime numbers between given range are:\n",
      "1 2 3 5 7 11 13 17 19 23 29 31 37 41 43 47 53 59 61 67 71 73 79 83 89 97 101 103 107 109 113 127 131 137 139 149 "
     ]
    }
   ],
   "source": [
    "def prime():\n",
    "    s=int(input(\"starting number :\"))\n",
    "    e= int(input(\"ending number: \"))\n",
    "    print(\"The prime numbers between given range are:\")\n",
    "    for n in range(s,e+1):\n",
    "            if all(n%i!=0 for i in range(2,n)):\n",
    "                print(n,end=\" \")\n",
    "prime()"
   ]
  },
  {
   "cell_type": "code",
   "execution_count": 49,
   "id": "2d4b8e8e",
   "metadata": {},
   "outputs": [
    {
     "name": "stdout",
     "output_type": "stream",
     "text": [
      "Enter starting range :1\n",
      "Enter ending range :10\n",
      "2 3 5 7 "
     ]
    }
   ],
   "source": [
    "def prime():\n",
    "    s = int(input(\"Enter starting range :\"))\n",
    "    e = int(input(\"Enter ending range :\"))\n",
    "    for n in range(s,e+1):\n",
    "        if n >1:\n",
    "            for i in range(2,n):\n",
    "                if (n % i) ==0:\n",
    "                    break\n",
    "            else:\n",
    "                print(n,end=\" \")\n",
    "\n",
    "prime()"
   ]
  },
  {
   "cell_type": "markdown",
   "id": "114577dc",
   "metadata": {},
   "source": [
    "### 4.Create a function for finding the count of elements in a string. \"Srm university\"."
   ]
  },
  {
   "cell_type": "code",
   "execution_count": 54,
   "id": "de396972",
   "metadata": {},
   "outputs": [
    {
     "name": "stdout",
     "output_type": "stream",
     "text": [
      "Enter the string: Srm university\n"
     ]
    },
    {
     "data": {
      "text/plain": [
       "{'s': 2,\n",
       " 'r': 2,\n",
       " 'm': 1,\n",
       " ' ': 1,\n",
       " 'u': 1,\n",
       " 'n': 1,\n",
       " 'i': 2,\n",
       " 'v': 1,\n",
       " 'e': 1,\n",
       " 't': 1,\n",
       " 'y': 1}"
      ]
     },
     "execution_count": 54,
     "metadata": {},
     "output_type": "execute_result"
    }
   ],
   "source": [
    "def count():\n",
    "    a=input(\"Enter the string: \")\n",
    "    b={}\n",
    "    c=a.lower()\n",
    "    for i in c:\n",
    "        if i in b:\n",
    "            b[i]=b[i]+1\n",
    "        else:\n",
    "            b[i]=1\n",
    "    return b\n",
    "            \n",
    "count()"
   ]
  }
 ],
 "metadata": {
  "kernelspec": {
   "display_name": "Python 3",
   "language": "python",
   "name": "python3"
  },
  "language_info": {
   "codemirror_mode": {
    "name": "ipython",
    "version": 3
   },
   "file_extension": ".py",
   "mimetype": "text/x-python",
   "name": "python",
   "nbconvert_exporter": "python",
   "pygments_lexer": "ipython3",
   "version": "3.8.8"
  }
 },
 "nbformat": 4,
 "nbformat_minor": 5
}
