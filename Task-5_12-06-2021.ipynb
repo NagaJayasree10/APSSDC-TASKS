{
 "cells": [
  {
   "cell_type": "markdown",
   "id": "4258cbda",
   "metadata": {},
   "source": [
    " ### 1.Write a Python script to print a dictionary where the keys are numbers between 1 and 15 (both included) and the values are square of keys"
   ]
  },
  {
   "cell_type": "code",
   "execution_count": 8,
   "id": "2757efe6",
   "metadata": {},
   "outputs": [
    {
     "name": "stdout",
     "output_type": "stream",
     "text": [
      "{1: 1, 2: 4, 3: 9, 4: 16, 5: 25, 6: 36, 7: 49, 8: 64, 9: 81, 10: 100, 11: 121, 12: 144, 13: 169, 14: 196, 15: 225}\n"
     ]
    }
   ],
   "source": [
    "d1={}\n",
    "for i in range(1,16):\n",
    "    d1[i]=i*i\n",
    "print(d1)"
   ]
  },
  {
   "cell_type": "markdown",
   "id": "f77f1a10",
   "metadata": {},
   "source": [
    "### 2.Write a Python program to map two lists into a dictionary"
   ]
  },
  {
   "cell_type": "code",
   "execution_count": 1,
   "id": "ba124623",
   "metadata": {},
   "outputs": [
    {
     "name": "stdout",
     "output_type": "stream",
     "text": [
      "Enter the number of elements in the dictionary: 3\n",
      "enter the keys:1\n",
      "enter the keys:2\n",
      "enter the keys:3\n",
      "enter the values:jaya\n",
      "enter the values:narsi\n",
      "enter the values:noushi\n",
      "['1', '2', '3'] ['jaya', 'narsi', 'noushi']\n",
      "{'1': 'jaya', '2': 'narsi', '3': 'noushi'}\n"
     ]
    }
   ],
   "source": [
    "n=int(input(\"Enter the number of elements in the dictionary: \"))\n",
    "keys=[]\n",
    "values=[]\n",
    "for i in range (0,n):\n",
    "    a=input(\"enter the keys:\")\n",
    "    keys.append(a)\n",
    "for j in range (0,n):\n",
    "    b=input(\"enter the values:\")\n",
    "    values.append(b)\n",
    "print(keys,values)\n",
    "print({keys[i]:values[i] for i in range (n)})"
   ]
  },
  {
   "cell_type": "markdown",
   "id": "2aab1174",
   "metadata": {},
   "source": [
    "### 3.Write a Python program to sort a list alphabetically in a dictionary\n",
    "     - input : {'n1': [2, 3, 1], 'n2': [5, 1, 2], 'n3': [3, 2, 4]}\n",
    "     - output : {'n1': [1, 2, 3], 'n2': [1, 2, 5], 'n3': [2, 3, 4]}"
   ]
  },
  {
   "cell_type": "code",
   "execution_count": 3,
   "id": "1270bd93",
   "metadata": {},
   "outputs": [
    {
     "name": "stdout",
     "output_type": "stream",
     "text": [
      "{'n1': [1, 2, 3], 'n2': [1, 2, 5], 'n3': [2, 3, 4]}\n"
     ]
    }
   ],
   "source": [
    "d1={'n1': [2, 3, 1], 'n2': [5, 1, 2], 'n3': [3, 2, 4]}\n",
    "print({k:sorted(v) for k,v in d1.items()})"
   ]
  }
 ],
 "metadata": {
  "kernelspec": {
   "display_name": "Python 3",
   "language": "python",
   "name": "python3"
  },
  "language_info": {
   "codemirror_mode": {
    "name": "ipython",
    "version": 3
   },
   "file_extension": ".py",
   "mimetype": "text/x-python",
   "name": "python",
   "nbconvert_exporter": "python",
   "pygments_lexer": "ipython3",
   "version": "3.8.8"
  }
 },
 "nbformat": 4,
 "nbformat_minor": 5
}
