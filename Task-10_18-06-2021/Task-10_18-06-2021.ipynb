{
 "cells": [
  {
   "cell_type": "markdown",
   "id": "cf86a9de",
   "metadata": {},
   "source": [
    "## TASKS"
   ]
  },
  {
   "cell_type": "markdown",
   "id": "9aa0ae45",
   "metadata": {},
   "source": [
    "### 1.Write a program for getting the last five lines from the file"
   ]
  },
  {
   "cell_type": "code",
   "execution_count": 28,
   "id": "22037f86",
   "metadata": {},
   "outputs": [],
   "source": [
    "f = open('Task10.txt','w')\n",
    "f.write(\"First line \\n\")\n",
    "f.write(\"Second line \\n\")\n",
    "f.write(\"Third line \\n\")\n",
    "f.write(\"Fourth line \\n\")\n",
    "f.write(\"Fifth line \\n\")\n",
    "f.write(\"Sixth line \\n\")\n",
    "f.write(\"Seventh line \\n\")\n",
    "f.write(\"Eighth line \\n\")\n",
    "f.write(\"Nineth line \\n\")\n",
    "f.write(\"Tenth line \\n\")\n",
    "f.write(\"Eleventh line \\n\")\n",
    "f.write(\"Twelveth line \\n\")\n",
    "\n",
    "\n",
    "f.close()\n",
    "\n"
   ]
  },
  {
   "cell_type": "code",
   "execution_count": 29,
   "id": "3520280d",
   "metadata": {},
   "outputs": [
    {
     "data": {
      "text/plain": [
       "'First line \\nSecond line \\nThird line \\nFourth line \\nFifth line \\nSixth line \\nSeventh line \\nEighth line \\nNineth line \\nTenth line \\nEleventh line \\nTwelveth line \\n'"
      ]
     },
     "execution_count": 29,
     "metadata": {},
     "output_type": "execute_result"
    }
   ],
   "source": [
    "f = open('Task10.txt','r')\n",
    "f.read()"
   ]
  },
  {
   "cell_type": "code",
   "execution_count": 30,
   "id": "e88cb3c0",
   "metadata": {},
   "outputs": [
    {
     "name": "stdout",
     "output_type": "stream",
     "text": [
      "Eighth line \n",
      "\n",
      "Nineth line \n",
      "\n",
      "Tenth line \n",
      "\n",
      "Eleventh line \n",
      "\n",
      "Twelveth line \n",
      "\n"
     ]
    }
   ],
   "source": [
    "f= open('Task10.txt','r')\n",
    "for i in (f.readlines()[-5:]):\n",
    "    print(i)\n"
   ]
  },
  {
   "cell_type": "markdown",
   "id": "d9414319",
   "metadata": {},
   "source": [
    "### 2.Create a function for appending the data into the file"
   ]
  },
  {
   "cell_type": "code",
   "execution_count": 31,
   "id": "3b02d1d7",
   "metadata": {},
   "outputs": [],
   "source": [
    "def data_append(info):\n",
    "    with open('Task10.txt','a') as f:\n",
    "        info = f.write(\"Thirteenth line \\n\")\n",
    "        info = f.write(\"Fourteenth line\")\n",
    "data_append('Task10.txt')\n"
   ]
  },
  {
   "cell_type": "code",
   "execution_count": 32,
   "id": "0d905ecc",
   "metadata": {},
   "outputs": [
    {
     "name": "stdout",
     "output_type": "stream",
     "text": [
      "First line \n",
      "Second line \n",
      "Third line \n",
      "Fourth line \n",
      "Fifth line \n",
      "Sixth line \n",
      "Seventh line \n",
      "Eighth line \n",
      "Nineth line \n",
      "Tenth line \n",
      "Eleventh line \n",
      "Twelveth line \n",
      "Thirteenth line \n",
      "Fourteenth line\n"
     ]
    }
   ],
   "source": [
    "f = open('Task10.txt')\n",
    "print(f.read())"
   ]
  },
  {
   "cell_type": "markdown",
   "id": "edfff177",
   "metadata": {},
   "source": [
    "### 3.Create a program for updating a word in the file."
   ]
  },
  {
   "cell_type": "code",
   "execution_count": 34,
   "id": "d06e6157",
   "metadata": {},
   "outputs": [
    {
     "name": "stdout",
     "output_type": "stream",
     "text": [
      "First line \n",
      "Second line \n",
      "Third line \n",
      "Fourth line \n",
      "Fifth line \n",
      "Sixth line \n",
      "Seventh line \n",
      "Eighth line \n",
      "Nineth line \n",
      "Tenth line \n",
      "Eleventh line \n",
      "Twelveth line \n",
      "Thirteenth line \n",
      "Fifteenth line\n"
     ]
    }
   ],
   "source": [
    "import re\n",
    "with open( 'Task10.txt',\"r+\") as f:\n",
    "          f1 = f.read( )\n",
    "          f1 = re.sub( \"Fourteenth\", \"Fifteenth\", f1)\n",
    "          f.seek(0)\n",
    "          f.write(f1)\n",
    "          f.truncate( )\n",
    "f = open(\"Task10.txt\")\n",
    "print (f.read( ))\n"
   ]
  },
  {
   "cell_type": "code",
   "execution_count": 35,
   "id": "23700a57",
   "metadata": {},
   "outputs": [],
   "source": [
    "f.close()"
   ]
  }
 ],
 "metadata": {
  "kernelspec": {
   "display_name": "Python 3",
   "language": "python",
   "name": "python3"
  },
  "language_info": {
   "codemirror_mode": {
    "name": "ipython",
    "version": 3
   },
   "file_extension": ".py",
   "mimetype": "text/x-python",
   "name": "python",
   "nbconvert_exporter": "python",
   "pygments_lexer": "ipython3",
   "version": "3.8.8"
  }
 },
 "nbformat": 4,
 "nbformat_minor": 5
}
