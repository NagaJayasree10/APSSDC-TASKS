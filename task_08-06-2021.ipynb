{
 "cells": [
  {
   "cell_type": "markdown",
   "id": "ba0b9b39",
   "metadata": {},
   "source": [
    "## TASK-1"
   ]
  },
  {
   "cell_type": "markdown",
   "id": "2d2d023e",
   "metadata": {},
   "source": [
    "### Write a program to check wheather the user eligible for vote or not"
   ]
  },
  {
   "cell_type": "code",
   "execution_count": 3,
   "id": "e92f0474",
   "metadata": {},
   "outputs": [
    {
     "name": "stdout",
     "output_type": "stream",
     "text": [
      "Enter any number:19\n",
      "Person can vote\n"
     ]
    }
   ],
   "source": [
    "# program to check wheather the user eligible for vote or not\n",
    "number=int(input(\"Enter any number:\"))\n",
    "if number>=18:\n",
    "    print(\"Person can vote\")\n",
    "else:\n",
    "    print(\"Person is not eligible for vote\")"
   ]
  },
  {
   "cell_type": "markdown",
   "id": "716ae198",
   "metadata": {},
   "source": [
    "###  Write a program to check the given number is positive or negative"
   ]
  },
  {
   "cell_type": "code",
   "execution_count": 4,
   "id": "208e8cda",
   "metadata": {},
   "outputs": [
    {
     "name": "stdout",
     "output_type": "stream",
     "text": [
      "Enter any number:10\n",
      "The number is positive\n"
     ]
    }
   ],
   "source": [
    "# program to check the given number is positive or negative\n",
    "number=int(input(\"Enter any number:\"))\n",
    "if number>=0:\n",
    "    print(\"The number is positive\")\n",
    "else:\n",
    "    print(\"The number is negative\")\n"
   ]
  },
  {
   "cell_type": "markdown",
   "id": "2cde862e",
   "metadata": {},
   "source": [
    "### check the given number is even or odd if it's even check which is divisible by 4 or not"
   ]
  },
  {
   "cell_type": "code",
   "execution_count": 8,
   "id": "416408ea",
   "metadata": {},
   "outputs": [
    {
     "name": "stdout",
     "output_type": "stream",
     "text": [
      "Enter any number:8\n",
      "The number is even\n",
      "The number is even and divisible by 4\n"
     ]
    }
   ],
   "source": [
    "# program to check the given number is even or odd if it's even check which is divisible by 4 or not\n",
    "number=int(input(\"Enter any number:\"))\n",
    "if number%2==0:\n",
    "    print(\"The number is even\")\n",
    "    if number%4==0:\n",
    "       print(\"The number is even and divisible by 4\")\n",
    "    else:\n",
    "        print(\"The number is even and not divisible by 4\")\n",
    "else:\n",
    "    print(\"The number is odd\")"
   ]
  },
  {
   "cell_type": "markdown",
   "id": "41204fb6",
   "metadata": {},
   "source": [
    "### write a program to print student grade based on percentage like Distinction, pass or fail"
   ]
  },
  {
   "cell_type": "code",
   "execution_count": 4,
   "id": "ef28ee4f",
   "metadata": {},
   "outputs": [
    {
     "name": "stdout",
     "output_type": "stream",
     "text": [
      "Enter the marks of subj1:90\n",
      "Enter the marks of subj2:87\n",
      "Enter the marks of subj3:65\n",
      "THe percentage is:  80.66666666666666\n",
      "pass\n"
     ]
    }
   ],
   "source": [
    "subj1=int(input(\"Enter the marks of subj1:\"))\n",
    "subj2=int(input(\"Enter the marks of subj2:\"))\n",
    "subj3=int(input(\"Enter the marks of subj3:\"))\n",
    "total = subj1+subj2+subj3;\n",
    "average = total/3;\n",
    "percentage = (total/300)*100;\n",
    "print(\"THe percentage is: \", percentage)\n",
    "\n",
    "if percentage>90:\n",
    "    print(\"Distinction\")\n",
    "elif percentage>=50:\n",
    "    print(\"pass\")\n",
    "else:\n",
    "    print(\"fail\")"
   ]
  },
  {
   "cell_type": "code",
   "execution_count": 1,
   "id": "c07d9db7",
   "metadata": {},
   "outputs": [
    {
     "name": "stdout",
     "output_type": "stream",
     "text": [
      "Enter no.of Subjects: 3\n",
      "Enter marks of 3 Subjects\n",
      "Enter Marks of the subjects 89\n",
      "Enter Marks of the subjects 92\n",
      "Enter Marks of the subjects 67\n",
      "The Percentage of all subjects is : 82.66666666666667\n",
      "Passed\n"
     ]
    }
   ],
   "source": [
    "n = int(input(\"Enter no.of Subjects: \"))\n",
    "sum = 0\n",
    "i = 0\n",
    "per = 0\n",
    "print(\"Enter marks of {}\".format(n) + \" Subjects\")\n",
    "for i in range (1, n+1):\n",
    "    marks = int(input(\"Enter Marks of the subjects \"))\n",
    "    sum = sum + marks\n",
    "per = sum*100/(n*100)\n",
    "print(\"The Percentage of all subjects is :\", per)\n",
    "if(per>=90):\n",
    "    print(\"distinction pass\")\n",
    "elif(per>=50):\n",
    "    print(\"Passed\")\n",
    "else:\n",
    "    print(\"Fail\")"
   ]
  },
  {
   "cell_type": "markdown",
   "id": "d91cafc8",
   "metadata": {},
   "source": [
    "### Check the given year is Leap or not"
   ]
  },
  {
   "cell_type": "code",
   "execution_count": 8,
   "id": "457f3cbe",
   "metadata": {},
   "outputs": [
    {
     "name": "stdout",
     "output_type": "stream",
     "text": [
      "Enter any year:2000\n",
      "The year is leap year\n"
     ]
    }
   ],
   "source": [
    "y=int(input(\"Enter any year:\"))\n",
    "if(y%4==0):\n",
    "    if(y%100==0):\n",
    "       if(y%400==0):\n",
    "         print(\"The year is leap year\")\n",
    "       else:\n",
    "         print(\"The yaer is not leap year\")\n",
    "    else:\n",
    "      print(\"The year is leap year\")\n",
    "else:\n",
    "    print(\"The year is leap year\")\n",
    "            "
   ]
  }
 ],
 "metadata": {
  "kernelspec": {
   "display_name": "Python 3",
   "language": "python",
   "name": "python3"
  },
  "language_info": {
   "codemirror_mode": {
    "name": "ipython",
    "version": 3
   },
   "file_extension": ".py",
   "mimetype": "text/x-python",
   "name": "python",
   "nbconvert_exporter": "python",
   "pygments_lexer": "ipython3",
   "version": "3.8.8"
  }
 },
 "nbformat": 4,
 "nbformat_minor": 5
}
