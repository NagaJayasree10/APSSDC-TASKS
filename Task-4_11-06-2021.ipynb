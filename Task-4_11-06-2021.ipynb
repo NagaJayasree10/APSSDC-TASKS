{
 "cells": [
  {
   "cell_type": "markdown",
   "id": "30d3faae",
   "metadata": {},
   "source": [
    "### Write a Python that takes two lists and returns True if they have at least one common member."
   ]
  },
  {
   "cell_type": "code",
   "execution_count": 4,
   "id": "6875006e",
   "metadata": {},
   "outputs": [
    {
     "name": "stdout",
     "output_type": "stream",
     "text": [
      "enter the number of elements in the list1: 3\n",
      "enter the number of elements in the list2: 3\n",
      "enter the strings you want l1: jaya\n",
      "enter the strings you want l1: narsi\n",
      "enter the strings you want l1: noushi\n",
      "The entered list1 is:  ['jaya', 'narsi', 'noushi']\n",
      "enter the strings you want l2: shyam\n",
      "enter the strings you want l2: vamsi\n",
      "enter the strings you want l2: jaya\n",
      "The entered list2 is:  ['shyam', 'vamsi', 'jaya']\n",
      "True\n"
     ]
    }
   ],
   "source": [
    "def common(l1,l2):\n",
    "    flag = False\n",
    "    for k in l1:\n",
    "        if (k in l2):\n",
    "            flag = True\n",
    "        else:\n",
    "            pass\n",
    "    return flag\n",
    "\n",
    "list1=int(input(\"enter the number of elements in the list1: \"))\n",
    "list2=int(input(\"enter the number of elements in the list2: \"))\n",
    "l1=[]\n",
    "for i in range(list1):\n",
    "    a=str(input(\"enter the strings you want l1: \"))\n",
    "    l1.append(a)\n",
    "print(\"The entered list1 is: \",l1)\n",
    "l2=[]\n",
    "for j in range(list2):\n",
    "    b=str(input(\"enter the strings you want l2: \"))\n",
    "    l2.append(b)\n",
    "print(\"The entered list2 is: \",l2)\n",
    "result = common(l1,l2)\n",
    "print(result)"
   ]
  }
 ],
 "metadata": {
  "kernelspec": {
   "display_name": "Python 3",
   "language": "python",
   "name": "python3"
  },
  "language_info": {
   "codemirror_mode": {
    "name": "ipython",
    "version": 3
   },
   "file_extension": ".py",
   "mimetype": "text/x-python",
   "name": "python",
   "nbconvert_exporter": "python",
   "pygments_lexer": "ipython3",
   "version": "3.8.8"
  }
 },
 "nbformat": 4,
 "nbformat_minor": 5
}
