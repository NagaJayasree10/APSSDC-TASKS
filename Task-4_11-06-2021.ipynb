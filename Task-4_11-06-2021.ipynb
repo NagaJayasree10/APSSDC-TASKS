{
 "cells": [
  {
   "cell_type": "markdown",
   "id": "0f3bc851",
   "metadata": {},
   "source": [
    "### Write a Python program that takes two lists and returns True if they have at least one common member."
   ]
  },
  {
   "cell_type": "code",
   "execution_count": 4,
   "id": "a01a506a",
   "metadata": {},
   "outputs": [
    {
     "name": "stdout",
     "output_type": "stream",
     "text": [
      "enter the number of elements in the list1: 4\n",
      "enter the number of elements in the list2: 6\n",
      "enter the strings you want l1: j\n",
      "enter the strings you want l1: a\n",
      "enter the strings you want l1: y\n",
      "enter the strings you want l1: a\n",
      "enter the strings you want l2: n\n",
      "enter the strings you want l2: a\n",
      "enter the strings you want l2: r\n",
      "enter the strings you want l2: s\n",
      "enter the strings you want l2: i\n",
      "enter the strings you want l2: g\n",
      "the common members are:  ['a', 'a']\n"
     ]
    }
   ],
   "source": [
    "list1=int(input(\"enter the number of elements in the list1: \"))\n",
    "list2=int(input(\"enter the number of elements in the list2: \"))\n",
    "\n",
    "l1=[]\n",
    "for i in range(list1):\n",
    "    a=str(input(\"enter the strings you want l1: \"))\n",
    "    l1.append(a)\n",
    "l2=[]\n",
    "for j in range(list2):\n",
    "    b=str(input(\"enter the strings you want l2: \"))\n",
    "    l2.append(b)\n",
    "l3=[]\n",
    "for k in l1:\n",
    "    for l in l2:\n",
    "        if k==l:\n",
    "            l3.append(k)\n",
    "print(\"the common members are: \",l3)"
   ]
  },
  {
   "cell_type": "code",
   "execution_count": null,
   "id": "1d5e1d2f",
   "metadata": {},
   "outputs": [],
   "source": []
  }
 ],
 "metadata": {
  "kernelspec": {
   "display_name": "Python 3",
   "language": "python",
   "name": "python3"
  },
  "language_info": {
   "codemirror_mode": {
    "name": "ipython",
    "version": 3
   },
   "file_extension": ".py",
   "mimetype": "text/x-python",
   "name": "python",
   "nbconvert_exporter": "python",
   "pygments_lexer": "ipython3",
   "version": "3.8.8"
  }
 },
 "nbformat": 4,
 "nbformat_minor": 5
}
